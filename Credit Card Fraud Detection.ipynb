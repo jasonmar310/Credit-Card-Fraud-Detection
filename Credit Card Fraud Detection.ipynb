{
  "nbformat": 4,
  "nbformat_minor": 0,
  "metadata": {
    "colab": {
      "provenance": []
    },
    "kernelspec": {
      "name": "python3",
      "display_name": "Python 3"
    },
    "language_info": {
      "name": "python"
    }
  },
  "cells": [
    {
      "cell_type": "markdown",
      "source": [
        "# CS677 - Data Science for Python\n",
        "\n",
        "\n",
        "****\n",
        "**Final Prjoect: Detection for Credit Card Fraud Transaction with Ensemble Learning**\n",
        "\n",
        "Name: JiaLiang Ma\n",
        "\n",
        "Scope: The propose of this project is to train and test the model to with different classifiers to examine the accuracy and performance each of them.\n",
        "\n",
        "Dataset: https://www.kaggle.com/datasets/mlg-ulb/creditcardfraud\n",
        "\n",
        "Reference: Andrea Dal Pozzolo, Olivier Caelen, Reid A. Johnson and Gianluca Bontempi. Calibrating Probability\n",
        "with Undersampling for Unbalanced Classification. In Symposium on Computational Intelligence and\n",
        "Data Mining (CIDM), IEEE, 2015"
      ],
      "metadata": {
        "id": "95HGr9AnqqwA"
      }
    },
    {
      "cell_type": "code",
      "execution_count": 26,
      "metadata": {
        "id": "9xyNdUb4qLsc"
      },
      "outputs": [],
      "source": [
        "# Import required packages\n",
        "import pandas as pd\n",
        "import numpy as np\n",
        "import matplotlib.pyplot as plt\n",
        "import seaborn as sns\n",
        "\n",
        "from sklearn.preprocessing import StandardScaler\n",
        "from sklearn.model_selection import train_test_split, validation_curve\n",
        "from sklearn.metrics import accuracy_score, f1_score, confusion_matrix, recall_score, roc_auc_score, roc_curve\n",
        "from sklearn.ensemble import VotingClassifier\n",
        "from sklearn.linear_model import LogisticRegression\n",
        "from sklearn.tree import DecisionTreeClassifier\n",
        "from sklearn.naive_bayes import GaussianNB\n",
        "from sklearn.datasets import load_digits\n",
        "\n",
        "# Ignore warnings\n",
        "import warnings\n",
        "warnings.filterwarnings(\"ignore\")\n",
        "\n"
      ]
    },
    {
      "cell_type": "markdown",
      "source": [
        "**Data Exploration and Pre-processing**\n",
        "\n",
        "The dataset has been standardized and conducted Principal Component Analysis (PCA) for protecting personal data privacy. \n",
        "\n",
        "The feature of 'Amount' and 'Time' are remaining unstandardized."
      ],
      "metadata": {
        "id": "L0ZGt9pmlwAI"
      }
    },
    {
      "cell_type": "code",
      "source": [
        "# Load the dataset\n",
        "np.random.seed(99)\n",
        "\n",
        "card_df = pd.read_csv('/creditcard.csv')\n",
        "\n",
        "card_df.describe()\n"
      ],
      "metadata": {
        "colab": {
          "base_uri": "https://localhost:8080/",
          "height": 394
        },
        "id": "9prstwRSWz_1",
        "outputId": "3d8eccf9-0cc0-4481-a645-0aa9957e39b2"
      },
      "execution_count": 2,
      "outputs": [
        {
          "output_type": "execute_result",
          "data": {
            "text/plain": [
              "                Time            V1            V2            V3            V4  \\\n",
              "count  284807.000000  2.848070e+05  2.848070e+05  2.848070e+05  2.848070e+05   \n",
              "mean    94813.859575  1.168375e-15  3.416908e-16 -1.379537e-15  2.074095e-15   \n",
              "std     47488.145955  1.958696e+00  1.651309e+00  1.516255e+00  1.415869e+00   \n",
              "min         0.000000 -5.640751e+01 -7.271573e+01 -4.832559e+01 -5.683171e+00   \n",
              "25%     54201.500000 -9.203734e-01 -5.985499e-01 -8.903648e-01 -8.486401e-01   \n",
              "50%     84692.000000  1.810880e-02  6.548556e-02  1.798463e-01 -1.984653e-02   \n",
              "75%    139320.500000  1.315642e+00  8.037239e-01  1.027196e+00  7.433413e-01   \n",
              "max    172792.000000  2.454930e+00  2.205773e+01  9.382558e+00  1.687534e+01   \n",
              "\n",
              "                 V5            V6            V7            V8            V9  \\\n",
              "count  2.848070e+05  2.848070e+05  2.848070e+05  2.848070e+05  2.848070e+05   \n",
              "mean   9.604066e-16  1.487313e-15 -5.556467e-16  1.213481e-16 -2.406331e-15   \n",
              "std    1.380247e+00  1.332271e+00  1.237094e+00  1.194353e+00  1.098632e+00   \n",
              "min   -1.137433e+02 -2.616051e+01 -4.355724e+01 -7.321672e+01 -1.343407e+01   \n",
              "25%   -6.915971e-01 -7.682956e-01 -5.540759e-01 -2.086297e-01 -6.430976e-01   \n",
              "50%   -5.433583e-02 -2.741871e-01  4.010308e-02  2.235804e-02 -5.142873e-02   \n",
              "75%    6.119264e-01  3.985649e-01  5.704361e-01  3.273459e-01  5.971390e-01   \n",
              "max    3.480167e+01  7.330163e+01  1.205895e+02  2.000721e+01  1.559499e+01   \n",
              "\n",
              "       ...           V21           V22           V23           V24  \\\n",
              "count  ...  2.848070e+05  2.848070e+05  2.848070e+05  2.848070e+05   \n",
              "mean   ...  1.654067e-16 -3.568593e-16  2.578648e-16  4.473266e-15   \n",
              "std    ...  7.345240e-01  7.257016e-01  6.244603e-01  6.056471e-01   \n",
              "min    ... -3.483038e+01 -1.093314e+01 -4.480774e+01 -2.836627e+00   \n",
              "25%    ... -2.283949e-01 -5.423504e-01 -1.618463e-01 -3.545861e-01   \n",
              "50%    ... -2.945017e-02  6.781943e-03 -1.119293e-02  4.097606e-02   \n",
              "75%    ...  1.863772e-01  5.285536e-01  1.476421e-01  4.395266e-01   \n",
              "max    ...  2.720284e+01  1.050309e+01  2.252841e+01  4.584549e+00   \n",
              "\n",
              "                V25           V26           V27           V28         Amount  \\\n",
              "count  2.848070e+05  2.848070e+05  2.848070e+05  2.848070e+05  284807.000000   \n",
              "mean   5.340915e-16  1.683437e-15 -3.660091e-16 -1.227390e-16      88.349619   \n",
              "std    5.212781e-01  4.822270e-01  4.036325e-01  3.300833e-01     250.120109   \n",
              "min   -1.029540e+01 -2.604551e+00 -2.256568e+01 -1.543008e+01       0.000000   \n",
              "25%   -3.171451e-01 -3.269839e-01 -7.083953e-02 -5.295979e-02       5.600000   \n",
              "50%    1.659350e-02 -5.213911e-02  1.342146e-03  1.124383e-02      22.000000   \n",
              "75%    3.507156e-01  2.409522e-01  9.104512e-02  7.827995e-02      77.165000   \n",
              "max    7.519589e+00  3.517346e+00  3.161220e+01  3.384781e+01   25691.160000   \n",
              "\n",
              "               Class  \n",
              "count  284807.000000  \n",
              "mean        0.001727  \n",
              "std         0.041527  \n",
              "min         0.000000  \n",
              "25%         0.000000  \n",
              "50%         0.000000  \n",
              "75%         0.000000  \n",
              "max         1.000000  \n",
              "\n",
              "[8 rows x 31 columns]"
            ],
            "text/html": [
              "\n",
              "  <div id=\"df-da3bb11f-dd32-4f96-81e2-fb3e19842df3\">\n",
              "    <div class=\"colab-df-container\">\n",
              "      <div>\n",
              "<style scoped>\n",
              "    .dataframe tbody tr th:only-of-type {\n",
              "        vertical-align: middle;\n",
              "    }\n",
              "\n",
              "    .dataframe tbody tr th {\n",
              "        vertical-align: top;\n",
              "    }\n",
              "\n",
              "    .dataframe thead th {\n",
              "        text-align: right;\n",
              "    }\n",
              "</style>\n",
              "<table border=\"1\" class=\"dataframe\">\n",
              "  <thead>\n",
              "    <tr style=\"text-align: right;\">\n",
              "      <th></th>\n",
              "      <th>Time</th>\n",
              "      <th>V1</th>\n",
              "      <th>V2</th>\n",
              "      <th>V3</th>\n",
              "      <th>V4</th>\n",
              "      <th>V5</th>\n",
              "      <th>V6</th>\n",
              "      <th>V7</th>\n",
              "      <th>V8</th>\n",
              "      <th>V9</th>\n",
              "      <th>...</th>\n",
              "      <th>V21</th>\n",
              "      <th>V22</th>\n",
              "      <th>V23</th>\n",
              "      <th>V24</th>\n",
              "      <th>V25</th>\n",
              "      <th>V26</th>\n",
              "      <th>V27</th>\n",
              "      <th>V28</th>\n",
              "      <th>Amount</th>\n",
              "      <th>Class</th>\n",
              "    </tr>\n",
              "  </thead>\n",
              "  <tbody>\n",
              "    <tr>\n",
              "      <th>count</th>\n",
              "      <td>284807.000000</td>\n",
              "      <td>2.848070e+05</td>\n",
              "      <td>2.848070e+05</td>\n",
              "      <td>2.848070e+05</td>\n",
              "      <td>2.848070e+05</td>\n",
              "      <td>2.848070e+05</td>\n",
              "      <td>2.848070e+05</td>\n",
              "      <td>2.848070e+05</td>\n",
              "      <td>2.848070e+05</td>\n",
              "      <td>2.848070e+05</td>\n",
              "      <td>...</td>\n",
              "      <td>2.848070e+05</td>\n",
              "      <td>2.848070e+05</td>\n",
              "      <td>2.848070e+05</td>\n",
              "      <td>2.848070e+05</td>\n",
              "      <td>2.848070e+05</td>\n",
              "      <td>2.848070e+05</td>\n",
              "      <td>2.848070e+05</td>\n",
              "      <td>2.848070e+05</td>\n",
              "      <td>284807.000000</td>\n",
              "      <td>284807.000000</td>\n",
              "    </tr>\n",
              "    <tr>\n",
              "      <th>mean</th>\n",
              "      <td>94813.859575</td>\n",
              "      <td>1.168375e-15</td>\n",
              "      <td>3.416908e-16</td>\n",
              "      <td>-1.379537e-15</td>\n",
              "      <td>2.074095e-15</td>\n",
              "      <td>9.604066e-16</td>\n",
              "      <td>1.487313e-15</td>\n",
              "      <td>-5.556467e-16</td>\n",
              "      <td>1.213481e-16</td>\n",
              "      <td>-2.406331e-15</td>\n",
              "      <td>...</td>\n",
              "      <td>1.654067e-16</td>\n",
              "      <td>-3.568593e-16</td>\n",
              "      <td>2.578648e-16</td>\n",
              "      <td>4.473266e-15</td>\n",
              "      <td>5.340915e-16</td>\n",
              "      <td>1.683437e-15</td>\n",
              "      <td>-3.660091e-16</td>\n",
              "      <td>-1.227390e-16</td>\n",
              "      <td>88.349619</td>\n",
              "      <td>0.001727</td>\n",
              "    </tr>\n",
              "    <tr>\n",
              "      <th>std</th>\n",
              "      <td>47488.145955</td>\n",
              "      <td>1.958696e+00</td>\n",
              "      <td>1.651309e+00</td>\n",
              "      <td>1.516255e+00</td>\n",
              "      <td>1.415869e+00</td>\n",
              "      <td>1.380247e+00</td>\n",
              "      <td>1.332271e+00</td>\n",
              "      <td>1.237094e+00</td>\n",
              "      <td>1.194353e+00</td>\n",
              "      <td>1.098632e+00</td>\n",
              "      <td>...</td>\n",
              "      <td>7.345240e-01</td>\n",
              "      <td>7.257016e-01</td>\n",
              "      <td>6.244603e-01</td>\n",
              "      <td>6.056471e-01</td>\n",
              "      <td>5.212781e-01</td>\n",
              "      <td>4.822270e-01</td>\n",
              "      <td>4.036325e-01</td>\n",
              "      <td>3.300833e-01</td>\n",
              "      <td>250.120109</td>\n",
              "      <td>0.041527</td>\n",
              "    </tr>\n",
              "    <tr>\n",
              "      <th>min</th>\n",
              "      <td>0.000000</td>\n",
              "      <td>-5.640751e+01</td>\n",
              "      <td>-7.271573e+01</td>\n",
              "      <td>-4.832559e+01</td>\n",
              "      <td>-5.683171e+00</td>\n",
              "      <td>-1.137433e+02</td>\n",
              "      <td>-2.616051e+01</td>\n",
              "      <td>-4.355724e+01</td>\n",
              "      <td>-7.321672e+01</td>\n",
              "      <td>-1.343407e+01</td>\n",
              "      <td>...</td>\n",
              "      <td>-3.483038e+01</td>\n",
              "      <td>-1.093314e+01</td>\n",
              "      <td>-4.480774e+01</td>\n",
              "      <td>-2.836627e+00</td>\n",
              "      <td>-1.029540e+01</td>\n",
              "      <td>-2.604551e+00</td>\n",
              "      <td>-2.256568e+01</td>\n",
              "      <td>-1.543008e+01</td>\n",
              "      <td>0.000000</td>\n",
              "      <td>0.000000</td>\n",
              "    </tr>\n",
              "    <tr>\n",
              "      <th>25%</th>\n",
              "      <td>54201.500000</td>\n",
              "      <td>-9.203734e-01</td>\n",
              "      <td>-5.985499e-01</td>\n",
              "      <td>-8.903648e-01</td>\n",
              "      <td>-8.486401e-01</td>\n",
              "      <td>-6.915971e-01</td>\n",
              "      <td>-7.682956e-01</td>\n",
              "      <td>-5.540759e-01</td>\n",
              "      <td>-2.086297e-01</td>\n",
              "      <td>-6.430976e-01</td>\n",
              "      <td>...</td>\n",
              "      <td>-2.283949e-01</td>\n",
              "      <td>-5.423504e-01</td>\n",
              "      <td>-1.618463e-01</td>\n",
              "      <td>-3.545861e-01</td>\n",
              "      <td>-3.171451e-01</td>\n",
              "      <td>-3.269839e-01</td>\n",
              "      <td>-7.083953e-02</td>\n",
              "      <td>-5.295979e-02</td>\n",
              "      <td>5.600000</td>\n",
              "      <td>0.000000</td>\n",
              "    </tr>\n",
              "    <tr>\n",
              "      <th>50%</th>\n",
              "      <td>84692.000000</td>\n",
              "      <td>1.810880e-02</td>\n",
              "      <td>6.548556e-02</td>\n",
              "      <td>1.798463e-01</td>\n",
              "      <td>-1.984653e-02</td>\n",
              "      <td>-5.433583e-02</td>\n",
              "      <td>-2.741871e-01</td>\n",
              "      <td>4.010308e-02</td>\n",
              "      <td>2.235804e-02</td>\n",
              "      <td>-5.142873e-02</td>\n",
              "      <td>...</td>\n",
              "      <td>-2.945017e-02</td>\n",
              "      <td>6.781943e-03</td>\n",
              "      <td>-1.119293e-02</td>\n",
              "      <td>4.097606e-02</td>\n",
              "      <td>1.659350e-02</td>\n",
              "      <td>-5.213911e-02</td>\n",
              "      <td>1.342146e-03</td>\n",
              "      <td>1.124383e-02</td>\n",
              "      <td>22.000000</td>\n",
              "      <td>0.000000</td>\n",
              "    </tr>\n",
              "    <tr>\n",
              "      <th>75%</th>\n",
              "      <td>139320.500000</td>\n",
              "      <td>1.315642e+00</td>\n",
              "      <td>8.037239e-01</td>\n",
              "      <td>1.027196e+00</td>\n",
              "      <td>7.433413e-01</td>\n",
              "      <td>6.119264e-01</td>\n",
              "      <td>3.985649e-01</td>\n",
              "      <td>5.704361e-01</td>\n",
              "      <td>3.273459e-01</td>\n",
              "      <td>5.971390e-01</td>\n",
              "      <td>...</td>\n",
              "      <td>1.863772e-01</td>\n",
              "      <td>5.285536e-01</td>\n",
              "      <td>1.476421e-01</td>\n",
              "      <td>4.395266e-01</td>\n",
              "      <td>3.507156e-01</td>\n",
              "      <td>2.409522e-01</td>\n",
              "      <td>9.104512e-02</td>\n",
              "      <td>7.827995e-02</td>\n",
              "      <td>77.165000</td>\n",
              "      <td>0.000000</td>\n",
              "    </tr>\n",
              "    <tr>\n",
              "      <th>max</th>\n",
              "      <td>172792.000000</td>\n",
              "      <td>2.454930e+00</td>\n",
              "      <td>2.205773e+01</td>\n",
              "      <td>9.382558e+00</td>\n",
              "      <td>1.687534e+01</td>\n",
              "      <td>3.480167e+01</td>\n",
              "      <td>7.330163e+01</td>\n",
              "      <td>1.205895e+02</td>\n",
              "      <td>2.000721e+01</td>\n",
              "      <td>1.559499e+01</td>\n",
              "      <td>...</td>\n",
              "      <td>2.720284e+01</td>\n",
              "      <td>1.050309e+01</td>\n",
              "      <td>2.252841e+01</td>\n",
              "      <td>4.584549e+00</td>\n",
              "      <td>7.519589e+00</td>\n",
              "      <td>3.517346e+00</td>\n",
              "      <td>3.161220e+01</td>\n",
              "      <td>3.384781e+01</td>\n",
              "      <td>25691.160000</td>\n",
              "      <td>1.000000</td>\n",
              "    </tr>\n",
              "  </tbody>\n",
              "</table>\n",
              "<p>8 rows × 31 columns</p>\n",
              "</div>\n",
              "      <button class=\"colab-df-convert\" onclick=\"convertToInteractive('df-da3bb11f-dd32-4f96-81e2-fb3e19842df3')\"\n",
              "              title=\"Convert this dataframe to an interactive table.\"\n",
              "              style=\"display:none;\">\n",
              "        \n",
              "  <svg xmlns=\"http://www.w3.org/2000/svg\" height=\"24px\"viewBox=\"0 0 24 24\"\n",
              "       width=\"24px\">\n",
              "    <path d=\"M0 0h24v24H0V0z\" fill=\"none\"/>\n",
              "    <path d=\"M18.56 5.44l.94 2.06.94-2.06 2.06-.94-2.06-.94-.94-2.06-.94 2.06-2.06.94zm-11 1L8.5 8.5l.94-2.06 2.06-.94-2.06-.94L8.5 2.5l-.94 2.06-2.06.94zm10 10l.94 2.06.94-2.06 2.06-.94-2.06-.94-.94-2.06-.94 2.06-2.06.94z\"/><path d=\"M17.41 7.96l-1.37-1.37c-.4-.4-.92-.59-1.43-.59-.52 0-1.04.2-1.43.59L10.3 9.45l-7.72 7.72c-.78.78-.78 2.05 0 2.83L4 21.41c.39.39.9.59 1.41.59.51 0 1.02-.2 1.41-.59l7.78-7.78 2.81-2.81c.8-.78.8-2.07 0-2.86zM5.41 20L4 18.59l7.72-7.72 1.47 1.35L5.41 20z\"/>\n",
              "  </svg>\n",
              "      </button>\n",
              "      \n",
              "  <style>\n",
              "    .colab-df-container {\n",
              "      display:flex;\n",
              "      flex-wrap:wrap;\n",
              "      gap: 12px;\n",
              "    }\n",
              "\n",
              "    .colab-df-convert {\n",
              "      background-color: #E8F0FE;\n",
              "      border: none;\n",
              "      border-radius: 50%;\n",
              "      cursor: pointer;\n",
              "      display: none;\n",
              "      fill: #1967D2;\n",
              "      height: 32px;\n",
              "      padding: 0 0 0 0;\n",
              "      width: 32px;\n",
              "    }\n",
              "\n",
              "    .colab-df-convert:hover {\n",
              "      background-color: #E2EBFA;\n",
              "      box-shadow: 0px 1px 2px rgba(60, 64, 67, 0.3), 0px 1px 3px 1px rgba(60, 64, 67, 0.15);\n",
              "      fill: #174EA6;\n",
              "    }\n",
              "\n",
              "    [theme=dark] .colab-df-convert {\n",
              "      background-color: #3B4455;\n",
              "      fill: #D2E3FC;\n",
              "    }\n",
              "\n",
              "    [theme=dark] .colab-df-convert:hover {\n",
              "      background-color: #434B5C;\n",
              "      box-shadow: 0px 1px 3px 1px rgba(0, 0, 0, 0.15);\n",
              "      filter: drop-shadow(0px 1px 2px rgba(0, 0, 0, 0.3));\n",
              "      fill: #FFFFFF;\n",
              "    }\n",
              "  </style>\n",
              "\n",
              "      <script>\n",
              "        const buttonEl =\n",
              "          document.querySelector('#df-da3bb11f-dd32-4f96-81e2-fb3e19842df3 button.colab-df-convert');\n",
              "        buttonEl.style.display =\n",
              "          google.colab.kernel.accessAllowed ? 'block' : 'none';\n",
              "\n",
              "        async function convertToInteractive(key) {\n",
              "          const element = document.querySelector('#df-da3bb11f-dd32-4f96-81e2-fb3e19842df3');\n",
              "          const dataTable =\n",
              "            await google.colab.kernel.invokeFunction('convertToInteractive',\n",
              "                                                     [key], {});\n",
              "          if (!dataTable) return;\n",
              "\n",
              "          const docLinkHtml = 'Like what you see? Visit the ' +\n",
              "            '<a target=\"_blank\" href=https://colab.research.google.com/notebooks/data_table.ipynb>data table notebook</a>'\n",
              "            + ' to learn more about interactive tables.';\n",
              "          element.innerHTML = '';\n",
              "          dataTable['output_type'] = 'display_data';\n",
              "          await google.colab.output.renderOutput(dataTable, element);\n",
              "          const docLink = document.createElement('div');\n",
              "          docLink.innerHTML = docLinkHtml;\n",
              "          element.appendChild(docLink);\n",
              "        }\n",
              "      </script>\n",
              "    </div>\n",
              "  </div>\n",
              "  "
            ]
          },
          "metadata": {},
          "execution_count": 2
        }
      ]
    },
    {
      "cell_type": "code",
      "source": [
        "# Dataset information\n",
        "card_df.info()\n"
      ],
      "metadata": {
        "colab": {
          "base_uri": "https://localhost:8080/"
        },
        "id": "qOtSR5SzW_KO",
        "outputId": "1f2210e1-2826-4b75-ca40-1a063d096d68"
      },
      "execution_count": 3,
      "outputs": [
        {
          "output_type": "stream",
          "name": "stdout",
          "text": [
            "<class 'pandas.core.frame.DataFrame'>\n",
            "RangeIndex: 284807 entries, 0 to 284806\n",
            "Data columns (total 31 columns):\n",
            " #   Column  Non-Null Count   Dtype  \n",
            "---  ------  --------------   -----  \n",
            " 0   Time    284807 non-null  float64\n",
            " 1   V1      284807 non-null  float64\n",
            " 2   V2      284807 non-null  float64\n",
            " 3   V3      284807 non-null  float64\n",
            " 4   V4      284807 non-null  float64\n",
            " 5   V5      284807 non-null  float64\n",
            " 6   V6      284807 non-null  float64\n",
            " 7   V7      284807 non-null  float64\n",
            " 8   V8      284807 non-null  float64\n",
            " 9   V9      284807 non-null  float64\n",
            " 10  V10     284807 non-null  float64\n",
            " 11  V11     284807 non-null  float64\n",
            " 12  V12     284807 non-null  float64\n",
            " 13  V13     284807 non-null  float64\n",
            " 14  V14     284807 non-null  float64\n",
            " 15  V15     284807 non-null  float64\n",
            " 16  V16     284807 non-null  float64\n",
            " 17  V17     284807 non-null  float64\n",
            " 18  V18     284807 non-null  float64\n",
            " 19  V19     284807 non-null  float64\n",
            " 20  V20     284807 non-null  float64\n",
            " 21  V21     284807 non-null  float64\n",
            " 22  V22     284807 non-null  float64\n",
            " 23  V23     284807 non-null  float64\n",
            " 24  V24     284807 non-null  float64\n",
            " 25  V25     284807 non-null  float64\n",
            " 26  V26     284807 non-null  float64\n",
            " 27  V27     284807 non-null  float64\n",
            " 28  V28     284807 non-null  float64\n",
            " 29  Amount  284807 non-null  float64\n",
            " 30  Class   284807 non-null  int64  \n",
            "dtypes: float64(30), int64(1)\n",
            "memory usage: 67.4 MB\n"
          ]
        }
      ]
    },
    {
      "cell_type": "code",
      "source": [
        "# Shape of data\n",
        "card_df.shape\n"
      ],
      "metadata": {
        "colab": {
          "base_uri": "https://localhost:8080/"
        },
        "id": "LrVR3cyL6aIl",
        "outputId": "1b35fbbd-5e89-4955-d0f9-c9cf6d01133c"
      },
      "execution_count": 4,
      "outputs": [
        {
          "output_type": "execute_result",
          "data": {
            "text/plain": [
              "(284807, 31)"
            ]
          },
          "metadata": {},
          "execution_count": 4
        }
      ]
    },
    {
      "cell_type": "markdown",
      "source": [
        "**According to the N/A value checking, we found there is no missing values inside this dataset**"
      ],
      "metadata": {
        "id": "5eLV7B9a_uvx"
      }
    },
    {
      "cell_type": "code",
      "source": [
        "# N/A values checking\n",
        "card_df.isnull().sum()\n"
      ],
      "metadata": {
        "colab": {
          "base_uri": "https://localhost:8080/"
        },
        "id": "Swvs6OVf9_B-",
        "outputId": "4f7cc1a1-792e-4752-86ab-7bf54bb9b966"
      },
      "execution_count": 5,
      "outputs": [
        {
          "output_type": "execute_result",
          "data": {
            "text/plain": [
              "Time      0\n",
              "V1        0\n",
              "V2        0\n",
              "V3        0\n",
              "V4        0\n",
              "V5        0\n",
              "V6        0\n",
              "V7        0\n",
              "V8        0\n",
              "V9        0\n",
              "V10       0\n",
              "V11       0\n",
              "V12       0\n",
              "V13       0\n",
              "V14       0\n",
              "V15       0\n",
              "V16       0\n",
              "V17       0\n",
              "V18       0\n",
              "V19       0\n",
              "V20       0\n",
              "V21       0\n",
              "V22       0\n",
              "V23       0\n",
              "V24       0\n",
              "V25       0\n",
              "V26       0\n",
              "V27       0\n",
              "V28       0\n",
              "Amount    0\n",
              "Class     0\n",
              "dtype: int64"
            ]
          },
          "metadata": {},
          "execution_count": 5
        }
      ]
    },
    {
      "cell_type": "code",
      "source": [
        "# Duplication Check with copy edition, in this case, we do see some duplication dropped from df\n",
        "card_du = card_df.copy()\n",
        "\n",
        "card_du.drop_duplicates(subset=None, inplace=True)\n",
        "\n",
        "card_du.shape\n"
      ],
      "metadata": {
        "colab": {
          "base_uri": "https://localhost:8080/"
        },
        "id": "3aWxQEtf8JaP",
        "outputId": "dccc332a-decd-4505-fee5-1d84fd7cc8b5"
      },
      "execution_count": 6,
      "outputs": [
        {
          "output_type": "execute_result",
          "data": {
            "text/plain": [
              "(283726, 31)"
            ]
          },
          "metadata": {},
          "execution_count": 6
        }
      ]
    },
    {
      "cell_type": "code",
      "source": [
        "card_df.groupby('Class').mean()"
      ],
      "metadata": {
        "colab": {
          "base_uri": "https://localhost:8080/",
          "height": 173
        },
        "id": "HlptRtxW_jmN",
        "outputId": "c373f469-061d-42b6-ff24-dc4ee238de1f"
      },
      "execution_count": 7,
      "outputs": [
        {
          "output_type": "execute_result",
          "data": {
            "text/plain": [
              "               Time        V1        V2        V3        V4        V5  \\\n",
              "Class                                                                   \n",
              "0      94838.202258  0.008258 -0.006271  0.012171 -0.007860  0.005453   \n",
              "1      80746.806911 -4.771948  3.623778 -7.033281  4.542029 -3.151225   \n",
              "\n",
              "             V6        V7        V8        V9  ...       V20       V21  \\\n",
              "Class                                          ...                       \n",
              "0      0.002419  0.009637 -0.000987  0.004467  ... -0.000644 -0.001235   \n",
              "1     -1.397737 -5.568731  0.570636 -2.581123  ...  0.372319  0.713588   \n",
              "\n",
              "            V22       V23       V24       V25       V26       V27       V28  \\\n",
              "Class                                                                         \n",
              "0     -0.000024  0.000070  0.000182 -0.000072 -0.000089 -0.000295 -0.000131   \n",
              "1      0.014049 -0.040308 -0.105130  0.041449  0.051648  0.170575  0.075667   \n",
              "\n",
              "           Amount  \n",
              "Class              \n",
              "0       88.291022  \n",
              "1      122.211321  \n",
              "\n",
              "[2 rows x 30 columns]"
            ],
            "text/html": [
              "\n",
              "  <div id=\"df-8d31e896-4c5d-4ce5-a851-480e3df12563\">\n",
              "    <div class=\"colab-df-container\">\n",
              "      <div>\n",
              "<style scoped>\n",
              "    .dataframe tbody tr th:only-of-type {\n",
              "        vertical-align: middle;\n",
              "    }\n",
              "\n",
              "    .dataframe tbody tr th {\n",
              "        vertical-align: top;\n",
              "    }\n",
              "\n",
              "    .dataframe thead th {\n",
              "        text-align: right;\n",
              "    }\n",
              "</style>\n",
              "<table border=\"1\" class=\"dataframe\">\n",
              "  <thead>\n",
              "    <tr style=\"text-align: right;\">\n",
              "      <th></th>\n",
              "      <th>Time</th>\n",
              "      <th>V1</th>\n",
              "      <th>V2</th>\n",
              "      <th>V3</th>\n",
              "      <th>V4</th>\n",
              "      <th>V5</th>\n",
              "      <th>V6</th>\n",
              "      <th>V7</th>\n",
              "      <th>V8</th>\n",
              "      <th>V9</th>\n",
              "      <th>...</th>\n",
              "      <th>V20</th>\n",
              "      <th>V21</th>\n",
              "      <th>V22</th>\n",
              "      <th>V23</th>\n",
              "      <th>V24</th>\n",
              "      <th>V25</th>\n",
              "      <th>V26</th>\n",
              "      <th>V27</th>\n",
              "      <th>V28</th>\n",
              "      <th>Amount</th>\n",
              "    </tr>\n",
              "    <tr>\n",
              "      <th>Class</th>\n",
              "      <th></th>\n",
              "      <th></th>\n",
              "      <th></th>\n",
              "      <th></th>\n",
              "      <th></th>\n",
              "      <th></th>\n",
              "      <th></th>\n",
              "      <th></th>\n",
              "      <th></th>\n",
              "      <th></th>\n",
              "      <th></th>\n",
              "      <th></th>\n",
              "      <th></th>\n",
              "      <th></th>\n",
              "      <th></th>\n",
              "      <th></th>\n",
              "      <th></th>\n",
              "      <th></th>\n",
              "      <th></th>\n",
              "      <th></th>\n",
              "      <th></th>\n",
              "    </tr>\n",
              "  </thead>\n",
              "  <tbody>\n",
              "    <tr>\n",
              "      <th>0</th>\n",
              "      <td>94838.202258</td>\n",
              "      <td>0.008258</td>\n",
              "      <td>-0.006271</td>\n",
              "      <td>0.012171</td>\n",
              "      <td>-0.007860</td>\n",
              "      <td>0.005453</td>\n",
              "      <td>0.002419</td>\n",
              "      <td>0.009637</td>\n",
              "      <td>-0.000987</td>\n",
              "      <td>0.004467</td>\n",
              "      <td>...</td>\n",
              "      <td>-0.000644</td>\n",
              "      <td>-0.001235</td>\n",
              "      <td>-0.000024</td>\n",
              "      <td>0.000070</td>\n",
              "      <td>0.000182</td>\n",
              "      <td>-0.000072</td>\n",
              "      <td>-0.000089</td>\n",
              "      <td>-0.000295</td>\n",
              "      <td>-0.000131</td>\n",
              "      <td>88.291022</td>\n",
              "    </tr>\n",
              "    <tr>\n",
              "      <th>1</th>\n",
              "      <td>80746.806911</td>\n",
              "      <td>-4.771948</td>\n",
              "      <td>3.623778</td>\n",
              "      <td>-7.033281</td>\n",
              "      <td>4.542029</td>\n",
              "      <td>-3.151225</td>\n",
              "      <td>-1.397737</td>\n",
              "      <td>-5.568731</td>\n",
              "      <td>0.570636</td>\n",
              "      <td>-2.581123</td>\n",
              "      <td>...</td>\n",
              "      <td>0.372319</td>\n",
              "      <td>0.713588</td>\n",
              "      <td>0.014049</td>\n",
              "      <td>-0.040308</td>\n",
              "      <td>-0.105130</td>\n",
              "      <td>0.041449</td>\n",
              "      <td>0.051648</td>\n",
              "      <td>0.170575</td>\n",
              "      <td>0.075667</td>\n",
              "      <td>122.211321</td>\n",
              "    </tr>\n",
              "  </tbody>\n",
              "</table>\n",
              "<p>2 rows × 30 columns</p>\n",
              "</div>\n",
              "      <button class=\"colab-df-convert\" onclick=\"convertToInteractive('df-8d31e896-4c5d-4ce5-a851-480e3df12563')\"\n",
              "              title=\"Convert this dataframe to an interactive table.\"\n",
              "              style=\"display:none;\">\n",
              "        \n",
              "  <svg xmlns=\"http://www.w3.org/2000/svg\" height=\"24px\"viewBox=\"0 0 24 24\"\n",
              "       width=\"24px\">\n",
              "    <path d=\"M0 0h24v24H0V0z\" fill=\"none\"/>\n",
              "    <path d=\"M18.56 5.44l.94 2.06.94-2.06 2.06-.94-2.06-.94-.94-2.06-.94 2.06-2.06.94zm-11 1L8.5 8.5l.94-2.06 2.06-.94-2.06-.94L8.5 2.5l-.94 2.06-2.06.94zm10 10l.94 2.06.94-2.06 2.06-.94-2.06-.94-.94-2.06-.94 2.06-2.06.94z\"/><path d=\"M17.41 7.96l-1.37-1.37c-.4-.4-.92-.59-1.43-.59-.52 0-1.04.2-1.43.59L10.3 9.45l-7.72 7.72c-.78.78-.78 2.05 0 2.83L4 21.41c.39.39.9.59 1.41.59.51 0 1.02-.2 1.41-.59l7.78-7.78 2.81-2.81c.8-.78.8-2.07 0-2.86zM5.41 20L4 18.59l7.72-7.72 1.47 1.35L5.41 20z\"/>\n",
              "  </svg>\n",
              "      </button>\n",
              "      \n",
              "  <style>\n",
              "    .colab-df-container {\n",
              "      display:flex;\n",
              "      flex-wrap:wrap;\n",
              "      gap: 12px;\n",
              "    }\n",
              "\n",
              "    .colab-df-convert {\n",
              "      background-color: #E8F0FE;\n",
              "      border: none;\n",
              "      border-radius: 50%;\n",
              "      cursor: pointer;\n",
              "      display: none;\n",
              "      fill: #1967D2;\n",
              "      height: 32px;\n",
              "      padding: 0 0 0 0;\n",
              "      width: 32px;\n",
              "    }\n",
              "\n",
              "    .colab-df-convert:hover {\n",
              "      background-color: #E2EBFA;\n",
              "      box-shadow: 0px 1px 2px rgba(60, 64, 67, 0.3), 0px 1px 3px 1px rgba(60, 64, 67, 0.15);\n",
              "      fill: #174EA6;\n",
              "    }\n",
              "\n",
              "    [theme=dark] .colab-df-convert {\n",
              "      background-color: #3B4455;\n",
              "      fill: #D2E3FC;\n",
              "    }\n",
              "\n",
              "    [theme=dark] .colab-df-convert:hover {\n",
              "      background-color: #434B5C;\n",
              "      box-shadow: 0px 1px 3px 1px rgba(0, 0, 0, 0.15);\n",
              "      filter: drop-shadow(0px 1px 2px rgba(0, 0, 0, 0.3));\n",
              "      fill: #FFFFFF;\n",
              "    }\n",
              "  </style>\n",
              "\n",
              "      <script>\n",
              "        const buttonEl =\n",
              "          document.querySelector('#df-8d31e896-4c5d-4ce5-a851-480e3df12563 button.colab-df-convert');\n",
              "        buttonEl.style.display =\n",
              "          google.colab.kernel.accessAllowed ? 'block' : 'none';\n",
              "\n",
              "        async function convertToInteractive(key) {\n",
              "          const element = document.querySelector('#df-8d31e896-4c5d-4ce5-a851-480e3df12563');\n",
              "          const dataTable =\n",
              "            await google.colab.kernel.invokeFunction('convertToInteractive',\n",
              "                                                     [key], {});\n",
              "          if (!dataTable) return;\n",
              "\n",
              "          const docLinkHtml = 'Like what you see? Visit the ' +\n",
              "            '<a target=\"_blank\" href=https://colab.research.google.com/notebooks/data_table.ipynb>data table notebook</a>'\n",
              "            + ' to learn more about interactive tables.';\n",
              "          element.innerHTML = '';\n",
              "          dataTable['output_type'] = 'display_data';\n",
              "          await google.colab.output.renderOutput(dataTable, element);\n",
              "          const docLink = document.createElement('div');\n",
              "          docLink.innerHTML = docLinkHtml;\n",
              "          element.appendChild(docLink);\n",
              "        }\n",
              "      </script>\n",
              "    </div>\n",
              "  </div>\n",
              "  "
            ]
          },
          "metadata": {},
          "execution_count": 7
        }
      ]
    },
    {
      "cell_type": "markdown",
      "source": [
        "**Data Visualization**\n",
        "\n",
        "Class label = 0, not fraud\n",
        "\n",
        "Class label = 1, fraud"
      ],
      "metadata": {
        "id": "oAOthtlfW_bC"
      }
    },
    {
      "cell_type": "code",
      "source": [
        "f,ax=plt.subplots(1,2, figsize=(18,6))\n",
        "card_df['Class'].value_counts().plot.pie(explode=[0,0.1], autopct='%1.1f%%', ax=ax[0])\n",
        "ax[0].set_title('Distribution')\n",
        "\n",
        "# Check the imbalance distribution in Class feature\n",
        "ax = sns.countplot(x='Class', data=card_df);\n",
        "ax.set_yscale('log')\n",
        "plt.title('Class')\n"
      ],
      "metadata": {
        "colab": {
          "base_uri": "https://localhost:8080/",
          "height": 421
        },
        "id": "7IKhsi8I-66j",
        "outputId": "cf5993a4-c048-4ac1-e3d8-3dd68cab0796"
      },
      "execution_count": 8,
      "outputs": [
        {
          "output_type": "execute_result",
          "data": {
            "text/plain": [
              "Text(0.5, 1.0, 'Class')"
            ]
          },
          "metadata": {},
          "execution_count": 8
        },
        {
          "output_type": "display_data",
          "data": {
            "text/plain": [
              "<Figure size 1296x432 with 2 Axes>"
            ],
            "image/png": "[encoded data removed]"
          },
          "metadata": {
            "needs_background": "light"
          }
        }
      ]
    },
    {
      "cell_type": "markdown",
      "source": [
        "**Feature Selection**"
      ],
      "metadata": {
        "id": "19EZg7pBLpQg"
      }
    },
    {
      "cell_type": "code",
      "source": [
        "# Find the correlation between features and the target\n",
        "feature_cor = card_df.corr()\n",
        "feature_cor[\"Class\"].sort_values(ascending = False)\n",
        "plt.title(\"Credit card fraud features correlation\")\n",
        "\n",
        "# Correlation plot\n",
        "sns.heatmap(\n",
        "    feature_cor, xticklabels = feature_cor.columns, yticklabels = feature_cor.columns,\n",
        "    linewidth=2, cmap=\"Blues\", cbar=True)\n",
        "\n"
      ],
      "metadata": {
        "colab": {
          "base_uri": "https://localhost:8080/",
          "height": 327
        },
        "id": "IcLFirnuLpf0",
        "outputId": "61ff4ac1-2d35-4ef2-a5e8-84352453b360"
      },
      "execution_count": 9,
      "outputs": [
        {
          "output_type": "execute_result",
          "data": {
            "text/plain": [
              "<matplotlib.axes._subplots.AxesSubplot at 0x7f702852a970>"
            ]
          },
          "metadata": {},
          "execution_count": 9
        },
        {
          "output_type": "display_data",
          "data": {
            "text/plain": [
              "<Figure size 432x288 with 2 Axes>"
            ],
            "image/png": "[encoded data removed]"
          },
          "metadata": {
            "needs_background": "light"
          }
        }
      ]
    },
    {
      "cell_type": "code",
      "source": [
        "# We look into the 'Amount' feature before standardizing\n",
        "ax = card_df.Amount.hist(grid=False, bins=60) # bins: amounts of bars\n",
        "ax.set_yscale('log')\n",
        "plt.title('Amount')\n"
      ],
      "metadata": {
        "id": "z4G-POOvyjnk",
        "colab": {
          "base_uri": "https://localhost:8080/",
          "height": 298
        },
        "outputId": "215bc2dc-d14d-4c06-c0b6-ac439acfec90"
      },
      "execution_count": 10,
      "outputs": [
        {
          "output_type": "execute_result",
          "data": {
            "text/plain": [
              "Text(0.5, 1.0, 'Amount')"
            ]
          },
          "metadata": {},
          "execution_count": 10
        },
        {
          "output_type": "display_data",
          "data": {
            "text/plain": [
              "<Figure size 432x288 with 1 Axes>"
            ],
            "image/png": "[encoded data removed]"
          },
          "metadata": {
            "needs_background": "light"
          }
        }
      ]
    },
    {
      "cell_type": "code",
      "source": [
        "# We look into the 'Time' feature before standardizing\n",
        "ax = card_df.Time.hist(grid=False, bins=60)\n",
        "ax.set_yscale('log')\n",
        "plt.title('Time')\n"
      ],
      "metadata": {
        "id": "no8BaLh4yj9c",
        "colab": {
          "base_uri": "https://localhost:8080/",
          "height": 298
        },
        "outputId": "1f9828a5-e065-4f3a-8f84-09f899dd6005"
      },
      "execution_count": 11,
      "outputs": [
        {
          "output_type": "execute_result",
          "data": {
            "text/plain": [
              "Text(0.5, 1.0, 'Time')"
            ]
          },
          "metadata": {},
          "execution_count": 11
        },
        {
          "output_type": "display_data",
          "data": {
            "text/plain": [
              "<Figure size 432x288 with 1 Axes>"
            ],
            "image/png": "[encoded data removed]"
          },
          "metadata": {
            "needs_background": "light"
          }
        }
      ]
    },
    {
      "cell_type": "code",
      "source": [
        "# Examine the weights of selected features 'Amount' and 'Time', after standardizing\n",
        "# We use the Z-score method. Formula: z = (x-µ)/ σ\n",
        "card_df.Time = (card_df.Time - card_df.Time.min())/ card_df.Time.std() # use min() avoid negative on axis values\n",
        "card_df.Amount = (card_df.Amount - card_df.Amount.mean())/ card_df.Amount.std()\n",
        "\n",
        "ax = card_df.Time.hist(grid=False, bins=60)\n",
        "ax.set_yscale('log')\n",
        "plt.title('Time')\n"
      ],
      "metadata": {
        "colab": {
          "base_uri": "https://localhost:8080/",
          "height": 298
        },
        "id": "PTxa-NxQFm2W",
        "outputId": "c80602d8-b80a-4eb1-aa61-6356becff429"
      },
      "execution_count": 12,
      "outputs": [
        {
          "output_type": "execute_result",
          "data": {
            "text/plain": [
              "Text(0.5, 1.0, 'Time')"
            ]
          },
          "metadata": {},
          "execution_count": 12
        },
        {
          "output_type": "display_data",
          "data": {
            "text/plain": [
              "<Figure size 432x288 with 1 Axes>"
            ],
            "image/png": "[encoded data removed]"
          },
          "metadata": {
            "needs_background": "light"
          }
        }
      ]
    },
    {
      "cell_type": "code",
      "source": [
        "ax = card_df.Amount.hist(grid=False, bins=60)\n",
        "ax.set_yscale('log')\n",
        "plt.title('Amount')\n"
      ],
      "metadata": {
        "colab": {
          "base_uri": "https://localhost:8080/",
          "height": 298
        },
        "id": "vsyxC6X7FniN",
        "outputId": "260e3fec-42fb-4103-94ca-0f3ae5d4b9a9"
      },
      "execution_count": 13,
      "outputs": [
        {
          "output_type": "execute_result",
          "data": {
            "text/plain": [
              "Text(0.5, 1.0, 'Amount')"
            ]
          },
          "metadata": {},
          "execution_count": 13
        },
        {
          "output_type": "display_data",
          "data": {
            "text/plain": [
              "<Figure size 432x288 with 1 Axes>"
            ],
            "image/png": "[encoded data removed]"
          },
          "metadata": {
            "needs_background": "light"
          }
        }
      ]
    },
    {
      "cell_type": "markdown",
      "source": [
        "**Data Manipulation**"
      ],
      "metadata": {
        "id": "MH-9j-0adFNW"
      }
    },
    {
      "cell_type": "code",
      "source": [
        "# Train test split the data into 70% training data, and 30% testing data\n",
        "data = card_df.drop('Class', axis=1).values\n",
        "target = card_df.Class.values\n",
        "\n",
        "X_train, X_test, y_train, y_test = train_test_split(data, target, test_size=0.3) # random sampling\n",
        "\n",
        "# Data scaling\n",
        "Scaler = StandardScaler()\n",
        "\n",
        "X_train = Scaler.fit_transform(X_train)\n",
        "X_test = Scaler.transform(X_test)\n"
      ],
      "metadata": {
        "id": "0m5sj1IHdIY-"
      },
      "execution_count": 14,
      "outputs": []
    },
    {
      "cell_type": "code",
      "source": [
        "# Naive Bayesian NB classifier\n",
        "gnb = GaussianNB()\n",
        "gnb = gnb.fit(X_train, y_train)\n",
        "y_pred = gnb.predict(X_test)\n",
        "\n",
        "cm = confusion_matrix(y_test, y_pred)\n",
        "acc = accuracy_score(y_test, y_pred)\n",
        "\n",
        "print('Accuracy: ', round(acc, 4))\n",
        "print('Confusion matrix: \\n', cm)\n",
        "\n",
        "tn, fp, fn, tp = cm.ravel()\n",
        "tpr = round(tp/(tp+fn), 4)\n",
        "tnr = round(tn/(tn+fp), 4)\n",
        "\n",
        "print('Naive Bayesian Summary: TP = %d, FP = %d, TN = %d, FN = %d, Acc = %.4f, TPR = %.4f, TNR = %.4f'\n",
        "    %(tp, fp, tn, fn, round(acc, 4), tpr, tnr))\n",
        "\n"
      ],
      "metadata": {
        "colab": {
          "base_uri": "https://localhost:8080/"
        },
        "id": "lvPg_p0hdIjz",
        "outputId": "ce8fc897-07a4-4600-e4d5-ec25685943e1"
      },
      "execution_count": 15,
      "outputs": [
        {
          "output_type": "stream",
          "name": "stdout",
          "text": [
            "Accuracy:  0.9777\n",
            "Confusion matrix: \n",
            " [[83402  1884]\n",
            " [   23   134]]\n",
            "Naive Bayesian Summary: TP = 134, FP = 1884, TN = 83402, FN = 23, Acc = 0.9777, TPR = 0.8535, TNR = 0.9779\n"
          ]
        }
      ]
    },
    {
      "cell_type": "code",
      "source": [
        "# Logistic Regression classifier\n",
        "log = LogisticRegression(random_state=0)\n",
        "log = log.fit(X_train, y_train)\n",
        "\n",
        "y_pred = log.predict(X_test)\n",
        "cm = confusion_matrix(y_test, y_pred)\n",
        "acc = accuracy_score(y_test, y_pred)\n",
        "\n",
        "print('\\nLogistic Regression: \\n')\n",
        "print('Accuracy is: ', round(acc, 4))\n",
        "print('\\nConfusion matrix is: \\n', cm)\n",
        "\n",
        "# cm\n",
        "tn, fp, fn, tp = cm.ravel()\n",
        "tpr = round(tp/(tp+fn), 4)\n",
        "tnr = round(tn/(tn+fp), 4)\n",
        "\n",
        "print('\\nSummary of Logistic Regression: tp: %d, fp: %d, tn: %d, fn: %d, acc: %.4f, tpr: %.4f, tnr: %.4f'\n",
        "      %(tp,fp, tn, fn, round(acc, 4), tpr, tnr))\n",
        "\n"
      ],
      "metadata": {
        "colab": {
          "base_uri": "https://localhost:8080/"
        },
        "id": "58BuB27DdI3a",
        "outputId": "764c0e80-e4da-4409-e1f7-78a9dcbd61af"
      },
      "execution_count": 16,
      "outputs": [
        {
          "output_type": "stream",
          "name": "stdout",
          "text": [
            "\n",
            "Logistic Regression: \n",
            "\n",
            "Accuracy is:  0.9992\n",
            "\n",
            "Confusion matrix is: \n",
            " [[85276    10]\n",
            " [   57   100]]\n",
            "\n",
            "Summary of Logistic Regression: tp: 100, fp: 10, tn: 85276, fn: 57, acc: 0.9992, tpr: 0.6369, tnr: 0.9999\n"
          ]
        }
      ]
    },
    {
      "cell_type": "code",
      "source": [
        "# Decision Tree classifier\n",
        "tree = DecisionTreeClassifier(random_state=0)\n",
        "tree = tree.fit(X_train, y_train)\n",
        "\n",
        "y_pred = tree.predict(X_test)\n",
        "\n",
        "cm = confusion_matrix(y_test, y_pred)\n",
        "acc = accuracy_score(y_test, y_pred)\n",
        "\n",
        "print('Accuracy: ', round(acc, 4))\n",
        "print('Confusion matrix: \\n', cm)\n",
        "\n",
        "tn, fp, fn, tp = cm.ravel()\n",
        "tpr = round(tp/(tp+fn), 4)\n",
        "tnr = round(tn/(tn+fp), 4)\n",
        "\n",
        "print('Decision Tree Summary: TP = %d, FP = %d, TN = %d, FN = %d, Acc = %.4f, TPR = %.4f, TNR = %.4f'\n",
        "    %(tp, fp, tn, fn, round(acc, 4), tpr, tnr))\n",
        "\n"
      ],
      "metadata": {
        "colab": {
          "base_uri": "https://localhost:8080/"
        },
        "id": "0R8CPPBZOovU",
        "outputId": "46b59d3b-d41c-45b8-c338-a037a0e2243a"
      },
      "execution_count": 17,
      "outputs": [
        {
          "output_type": "stream",
          "name": "stdout",
          "text": [
            "Accuracy:  0.9991\n",
            "Confusion matrix: \n",
            " [[85240    46]\n",
            " [   33   124]]\n",
            "Decision Tree Summary: TP = 124, FP = 46, TN = 85240, FN = 33, Acc = 0.9991, TPR = 0.7898, TNR = 0.9995\n"
          ]
        }
      ]
    },
    {
      "cell_type": "code",
      "source": [
        "# Draw a ROC Curve to examine how well the model seperate the classes\n",
        "def plot_roc_curve(y_test, y_pred):\n",
        "\n",
        "    fpr, tpr, thresholds = roc_curve(y_test, y_pred)\n",
        "    plt.plot(fpr, tpr)\n",
        "    plt.xlabel('False Positive Rate')\n",
        "    plt.ylabel('True Positive Rate')\n",
        "\n",
        "plot_roc_curve(y_test, y_pred)\n",
        "print(f'model 1 AUC score: {roc_auc_score(y_test, y_pred)}')"
      ],
      "metadata": {
        "colab": {
          "base_uri": "https://localhost:8080/",
          "height": 296
        },
        "id": "PZqWqDB2HRYV",
        "outputId": "9b82f09c-810b-4af8-9a03-88fe77b25002"
      },
      "execution_count": 30,
      "outputs": [
        {
          "output_type": "stream",
          "name": "stdout",
          "text": [
            "model 1 AUC score: 0.8887833888185555\n"
          ]
        },
        {
          "output_type": "display_data",
          "data": {
            "text/plain": [
              "<Figure size 432x288 with 1 Axes>"
            ],
            "image/png": "[encoded data removed]"
          },
          "metadata": {
            "needs_background": "light"
          }
        }
      ]
    },
    {
      "cell_type": "markdown",
      "source": [
        "According to the results above, we got the highest accuracy in both Decision Tree and Logistic Regression classifier. \n",
        "\n",
        "However, accuracy score can't reflect the comprehensiveness of models, due to imbalance dataset.\n",
        "\n",
        "Next step, we will use ensemble learning to examine the imbalance dataset with recall rate and F1 score."
      ],
      "metadata": {
        "id": "1Nkyj8Y8UVih"
      }
    },
    {
      "cell_type": "markdown",
      "source": [
        "**Ensemble Learning**\n",
        "\n",
        "Method: Voting Ensemble\n",
        "\n",
        "Note that: In Decision Tree classifier, for avoiding overfitting the model, we set up the maximum depth = 5.\n"
      ],
      "metadata": {
        "id": "pe_dHwAGri9T"
      }
    },
    {
      "cell_type": "code",
      "source": [
        "# Train test split into 70% and 30%\n",
        "fit_data_2 = card_df.drop('Class', axis=1).values\n",
        "target_2 = card_df.Class.values\n",
        "\n",
        "\n",
        "X_train, X_test, y_train, y_test = train_test_split(fit_data_2, target_2, test_size=0.3)\n",
        "\n",
        "# Train the base learners\n",
        "bc_lrs = [('Gaussian NB', GaussianNB()), ('Logistic Regression', LogisticRegression()), ('Decision Tree', DecisionTreeClassifier(max_depth=5))]\n",
        "\n",
        "for x in bc_lrs:\n",
        "  lr = x[1]\n",
        "  lr.fit(X_train, y_train)\n",
        "\n",
        "  y_pred = lr.predict(X_test)\n",
        "\n",
        "  # Get the initial scores\n",
        "  print(x[0] + ' f1:', round(f1_score(y_test, y_pred),4))\n",
        "  print(x[0]+ ' recall:', round(recall_score(y_test, y_pred),4))\n",
        "  print(confusion_matrix(y_test, y_pred))\n",
        "\n"
      ],
      "metadata": {
        "colab": {
          "base_uri": "https://localhost:8080/"
        },
        "id": "Ky0IsxLMdJic",
        "outputId": "bde2bef1-9524-4500-b68f-53edbac04b58"
      },
      "execution_count": 18,
      "outputs": [
        {
          "output_type": "stream",
          "name": "stdout",
          "text": [
            "Gaussian NB f1: 0.1048\n",
            "Gaussian NB recall: 0.8296\n",
            "[[83417  1891]\n",
            " [   23   112]]\n",
            "Logistic Regression f1: 0.7273\n",
            "Logistic Regression recall: 0.6222\n",
            "[[85296    12]\n",
            " [   51    84]]\n",
            "Decision Tree f1: 0.814\n",
            "Decision Tree recall: 0.7778\n",
            "[[85290    18]\n",
            " [   30   105]]\n"
          ]
        }
      ]
    },
    {
      "cell_type": "code",
      "source": [
        "# Feature selection\n",
        "feature_cor_2 = card_df.corr()['Class'].drop('Class')\n",
        "feature_cor_2.sort_values().plot(kind = 'bar')\n",
        "\n",
        "plt.title('Class correlations')\n"
      ],
      "metadata": {
        "colab": {
          "base_uri": "https://localhost:8080/",
          "height": 327
        },
        "id": "zkptyJlHdJgc",
        "outputId": "1368ae7d-17ff-4176-d75b-754dabdb47a1"
      },
      "execution_count": 19,
      "outputs": [
        {
          "output_type": "execute_result",
          "data": {
            "text/plain": [
              "Text(0.5, 1.0, 'Class correlations')"
            ]
          },
          "metadata": {},
          "execution_count": 19
        },
        {
          "output_type": "display_data",
          "data": {
            "text/plain": [
              "<Figure size 432x288 with 1 Axes>"
            ],
            "image/png": "[encoded data removed]"
          },
          "metadata": {
            "needs_background": "light"
          }
        }
      ]
    },
    {
      "cell_type": "code",
      "source": [
        "# Now we can drop the feature which are lower than 0.1\n",
        "pattern = 0.1\n",
        "\n",
        "cor = card_df.corr()['Class'].drop('Class')\n",
        "\n",
        "# Store the features\n",
        "selected_features = list(cor[(abs(cor) > pattern)].index.values)\n",
        "selected_features.append('Class')\n",
        "\n",
        "n_card_df = card_df[selected_features]\n",
        "\n",
        "# Test our model with optimized dataframe to see the difference\n",
        "fit_data_3 = n_card_df.drop('Class', axis=1).values\n",
        "target_3 = n_card_df.Class.values\n",
        "\n",
        "# Filtered train test split\n",
        "X_train_f, X_test_f, y_train_f, y_test_f = train_test_split(fit_data_3, target_3, test_size=0.3)\n",
        "\n",
        "\n",
        "for x in bc_lrs:\n",
        "  lr = x[1]\n",
        "  lr.fit(X_train_f, y_train_f)\n",
        "\n",
        "  y_pred_f = lr.predict(X_test_f)\n",
        "\n",
        "  # Get the initial scores\n",
        "  print(x[0] + ' f1:', round(f1_score(y_test_f, y_pred_f),4))\n",
        "  print(x[0]+ ' recall:', round(recall_score(y_test_f, y_pred_f),4))\n",
        "  print(confusion_matrix(y_test_f, y_pred_f))\n",
        "\n"
      ],
      "metadata": {
        "colab": {
          "base_uri": "https://localhost:8080/"
        },
        "id": "jqgaI3KjI5E1",
        "outputId": "e00f4990-1705-4fe7-93bd-0a5cc7884844"
      },
      "execution_count": 20,
      "outputs": [
        {
          "output_type": "stream",
          "name": "stdout",
          "text": [
            "Gaussian NB f1: 0.2037\n",
            "Gaussian NB recall: 0.8767\n",
            "[[84314   983]\n",
            " [   18   128]]\n",
            "Logistic Regression f1: 0.7634\n",
            "Logistic Regression recall: 0.6849\n",
            "[[85281    16]\n",
            " [   46   100]]\n",
            "Decision Tree f1: 0.8298\n",
            "Decision Tree recall: 0.8014\n",
            "[[85278    19]\n",
            " [   29   117]]\n"
          ]
        }
      ]
    },
    {
      "cell_type": "code",
      "source": [
        "# Optimize the decision tree with depth\n",
        "# Test the depth from 5 to 12 (depth too large may cause model overfitting)\n",
        "f1_org = []\n",
        "recall_org = []\n",
        "\n",
        "dp_range = [i for i in range(5, 13)]\n",
        "\n",
        "for p in dp_range:\n",
        "  lr = DecisionTreeClassifier(max_depth=p)\n",
        "  lr.fit(X_train, y_train)\n",
        "\n",
        "  y_pred = lr.predict(X_test)\n",
        "\n",
        "  f1_org.append(f1_score(y_test, y_pred))\n",
        "  recall_org.append(recall_score(y_test, y_pred))\n",
        "\n",
        "# Plot the figure\n",
        "plt.plot(dp_range, f1_org, label='Original F1')\n",
        "plt.plot(dp_range, recall_org, label='Original Recall')\n",
        "\n",
        "\n",
        "# Test with filtered model\n",
        "f1_filter = []\n",
        "recall_filter = []\n",
        "\n",
        "dp_range = [i for i in range(5, 13)]\n",
        "\n",
        "for p in dp_range:\n",
        "  lr = DecisionTreeClassifier(max_depth=p)\n",
        "  lr.fit(X_train_f, y_train_f)\n",
        "\n",
        "  y_pred_f = lr.predict(X_test_f)\n",
        "\n",
        "  f1_filter.append(f1_score(y_test_f, y_pred_f))\n",
        "  recall_filter.append(recall_score(y_test_f, y_pred_f))\n",
        "\n",
        "# Plot the figure\n",
        "plt.plot(dp_range, f1_filter, label='Filtered F1')\n",
        "plt.plot(dp_range, recall_filter, label='Filtered Recall')\n",
        "plt.legend(prop={'size': 6}, loc='lower left')\n",
        "plt.show()\n",
        "\n"
      ],
      "metadata": {
        "colab": {
          "base_uri": "https://localhost:8080/",
          "height": 265
        },
        "id": "1Iva1yhwcn8K",
        "outputId": "bb7448da-b8a4-46c8-c030-a85999fd63fb"
      },
      "execution_count": 21,
      "outputs": [
        {
          "output_type": "display_data",
          "data": {
            "text/plain": [
              "<Figure size 432x288 with 1 Axes>"
            ],
            "image/png": "[encoded data removed]"
          },
          "metadata": {
            "needs_background": "light"
          }
        }
      ]
    },
    {
      "cell_type": "code",
      "source": [
        "# Max f1 score and recall examination\n",
        "print('Original F1: ', round(max(f1_org),4))\n",
        "print('Original Recall: ', round(max(recall_org),4))\n",
        "print('Filtered F1: ', round(max(f1_filter),4))\n",
        "print('Filtered Recall: ', round(max(recall_filter),4))\n"
      ],
      "metadata": {
        "colab": {
          "base_uri": "https://localhost:8080/"
        },
        "id": "hqjfB--D6Wni",
        "outputId": "b8dc1fa6-f62a-44c0-d807-173594550a37"
      },
      "execution_count": 75,
      "outputs": [
        {
          "output_type": "stream",
          "name": "stdout",
          "text": [
            "Original F1:  0.8118\n",
            "Original Recall:  0.7639\n",
            "Filtered F1:  0.8328\n",
            "Filtered Recall:  0.7888\n"
          ]
        }
      ]
    },
    {
      "cell_type": "code",
      "source": [
        "# Ensembling models\n",
        "# As the figure above, we observe that when max depth = 6, model has the highest f1 score\n",
        "bc_lrs = [('Gaussian NB', GaussianNB()), ('Logistic Regression', LogisticRegression()), ('Decision Tree', DecisionTreeClassifier(max_depth=6))]\n",
        "\n",
        "ensemble = VotingClassifier(bc_lrs)\n",
        "ensemble.fit(X_train, y_train)\n",
        "\n",
        "print('Vothing ensemble f1: ', round(f1_score(y_test, y_pred),4))\n",
        "print('Vothing ensemble recall: ', round(recall_score(y_test, y_pred),4))\n",
        "\n",
        "# Filtered train test dataset\n",
        "ensemble = VotingClassifier(bc_lrs)\n",
        "ensemble.fit(X_train_f, y_train_f)\n",
        "\n",
        "print('\\nVothing ensemble filter f1: ', round(f1_score(y_test_f, y_pred_f),4))\n",
        "print('Vothing ensemble filter recall: ', round(recall_score(y_test_f, y_pred_f),4))\n"
      ],
      "metadata": {
        "colab": {
          "base_uri": "https://localhost:8080/"
        },
        "id": "MeOG4jlbN5MK",
        "outputId": "2b900505-bb84-4b5a-be68-6e861dcc5174"
      },
      "execution_count": 24,
      "outputs": [
        {
          "output_type": "stream",
          "name": "stdout",
          "text": [
            "Vothing ensemble f1:  0.814\n",
            "Vothing ensemble recall:  0.7778\n",
            "\n",
            "Vothing ensemble filter f1:  0.8014\n",
            "Vothing ensemble filter recall:  0.7603\n"
          ]
        }
      ]
    },
    {
      "cell_type": "code",
      "source": [
        "# Enhance the ensemble model\n",
        "# depth = 5, 6, 7\n",
        "bc_lrs_en = [('Gaussian NB', GaussianNB()), ('Logistic Regression', LogisticRegression()), ('Decision Tree', DecisionTreeClassifier(max_depth=6)), \n",
        "             ('Decision Tree x1', DecisionTreeClassifier(max_depth=5)), ('Decision Tree x2', DecisionTreeClassifier(max_depth=7))]\n",
        "\n",
        "ensemble = VotingClassifier(bc_lrs_en)\n",
        "ensemble.fit(X_train, y_train)\n",
        "\n",
        "print('Vothing ensemble f1: ', round(f1_score(y_test, y_pred),4))\n",
        "print('Vothing ensemble recall: ', round(recall_score(y_test, y_pred),4))\n",
        "\n",
        "# Filtered train test dataset\n",
        "ensemble = VotingClassifier(bc_lrs)\n",
        "ensemble.fit(X_train_f, y_train_f)\n",
        "\n",
        "print('\\nVothing ensemble filter f1: ', round(f1_score(y_test_f, y_pred_f),4))\n",
        "print('Vothing ensemble filter recall: ', round(recall_score(y_test_f, y_pred_f),4))\n",
        "\n"
      ],
      "metadata": {
        "colab": {
          "base_uri": "https://localhost:8080/"
        },
        "id": "ZzrI-yjuI4Rf",
        "outputId": "69cf446d-6323-4c43-ffec-4e4479f8f64f"
      },
      "execution_count": 31,
      "outputs": [
        {
          "output_type": "stream",
          "name": "stdout",
          "text": [
            "Vothing ensemble f1:  0.814\n",
            "Vothing ensemble recall:  0.7778\n",
            "\n",
            "Vothing ensemble filter f1:  0.8014\n",
            "Vothing ensemble filter recall:  0.7603\n"
          ]
        }
      ]
    },
    {
      "cell_type": "markdown",
      "source": [
        "References: \n",
        "\n",
        "https://www.geeksforgeeks.org/ensemble-methods-in-python/\n",
        "\n",
        "\n",
        "https://zh.wikipedia.org/zh-tw/%E9%9B%86%E6%88%90%E5%AD%A6%E4%B9%A0\n",
        "\n",
        "https://www.kaggle.com/code/emineyetm/dealing-with-imbalanced-datasets\n",
        "\n",
        "https://towardsdatascience.com/ensemble-methods-in-machine-learning-what-are-they-and-why-use-them-68ec3f9fef5f"
      ],
      "metadata": {
        "id": "l8OTiPqtobA0"
      }
    }
  ]
}